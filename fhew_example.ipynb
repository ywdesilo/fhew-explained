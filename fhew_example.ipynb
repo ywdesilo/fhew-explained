{
 "cells": [
  {
   "cell_type": "code",
   "execution_count": 7,
   "metadata": {},
   "outputs": [],
   "source": [
    "from fhew_engine import *"
   ]
  },
  {
   "cell_type": "code",
   "execution_count": 8,
   "metadata": {},
   "outputs": [
    {
     "name": "stdout",
     "output_type": "stream",
     "text": [
      "Using device cuda:0\n"
     ]
    }
   ],
   "source": [
    "# engine = fhew_engine(device='cpu')\n",
    "engine = fhew_engine()"
   ]
  },
  {
   "cell_type": "code",
   "execution_count": 9,
   "metadata": {},
   "outputs": [],
   "source": [
    "sk = engine.create_secret_key()"
   ]
  },
  {
   "cell_type": "code",
   "execution_count": 10,
   "metadata": {},
   "outputs": [
    {
     "data": {
      "text/plain": [
       "<fhew_engine.fhew_engine at 0x7f18619fb700>"
      ]
     },
     "execution_count": 10,
     "metadata": {},
     "output_type": "execute_result"
    }
   ],
   "source": [
    "brk, ksk = engine.create_bootstrap_key(sk)\n",
    "engine.setBlindRotationKey(brk).setKeySwitchKey(ksk)"
   ]
  },
  {
   "cell_type": "code",
   "execution_count": 11,
   "metadata": {},
   "outputs": [
    {
     "name": "stdout",
     "output_type": "stream",
     "text": [
      "NAND output: 0\n",
      "encrypted result: 0\n"
     ]
    }
   ],
   "source": [
    "m0 = 1\n",
    "m1 = 1\n",
    "\n",
    "ct0 = engine.encryptLWE(m0,sk)\n",
    "ct1 = engine.encryptLWE(m1,sk)\n",
    "\n",
    "ctNAND = engine.nand(ct0, ct1)\n",
    "\n",
    "print(f\"NAND output: {int(not (m0 and m1))}\")\n",
    "print(f\"encrypted result: {engine.decryptLWE(ctNAND, sk)}\")"
   ]
  },
  {
   "cell_type": "code",
   "execution_count": 12,
   "metadata": {},
   "outputs": [
    {
     "name": "stdout",
     "output_type": "stream",
     "text": [
      "Average runtime of 100 NAND boostrapping: 0.10358754283282906s.\n"
     ]
    }
   ],
   "source": [
    "from timeit import default_timer as timer\n",
    "\n",
    "iternum = 100\n",
    "\n",
    "tot_time = 0\n",
    "for i in range(iternum):\n",
    "    ct0 = engine.encryptLWE(m0,sk)\n",
    "    ct1 = engine.encryptLWE(m1,sk)\n",
    "\n",
    "    start = timer()\n",
    "    ctNAND = engine.nand(ct0, ct1)\n",
    "    end = timer()\n",
    "\n",
    "    if engine.decryptLWE(ctNAND, sk) != 0:\n",
    "        print(\"Error: \", i, engine.decryptLWE(ctNAND, sk))\n",
    "    tot_time += end - start\n",
    "\n",
    "print(f\"Average runtime of {iternum} NAND boostrapping: {tot_time/iternum}s.\")\n"
   ]
  }
 ],
 "metadata": {
  "kernelspec": {
   "display_name": "Python 3",
   "language": "python",
   "name": "python3"
  },
  "language_info": {
   "codemirror_mode": {
    "name": "ipython",
    "version": 3
   },
   "file_extension": ".py",
   "mimetype": "text/x-python",
   "name": "python",
   "nbconvert_exporter": "python",
   "pygments_lexer": "ipython3",
   "version": "3.10.7"
  },
  "orig_nbformat": 4
 },
 "nbformat": 4,
 "nbformat_minor": 2
}
