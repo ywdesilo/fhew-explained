{
 "cells": [
  {
   "cell_type": "markdown",
   "metadata": {},
   "source": [
    "# LWE key switching\n",
    "## LWE extrac operation\n",
    "\n",
    "We can extract an LWE ciphertext, encrypting only the constant term from an RLWE ciphertext.\n",
    "In fact, we can extract $N$ different LWE ciphertext encrypting each coefficients, but we only need the constant term in FHWE-like HE.\n",
    "\n",
    "First, we call necessary operations."
   ]
  },
  {
   "cell_type": "code",
   "execution_count": 1,
   "metadata": {},
   "outputs": [],
   "source": [
    "# Functions from previous lecturenote\n",
    "import torch\n",
    "import math\n",
    "\n",
    "stddev = 3.2\n",
    "logQ = 27\n",
    "logQks = 14\n",
    "\n",
    "n = 2**9\n",
    "Qks = 2**logQks\n",
    "\n",
    "N = 2**10\n",
    "Q = 2**logQ\n",
    "\n",
    "def keygen(dim):\n",
    "    return torch.randint(2, size = (dim,), dtype = torch.int32)\n",
    "\n",
    "def errgen(stddev, N):\n",
    "    e = torch.round(stddev*torch.randn(N)).to(torch.int32)\n",
    "    e = e.squeeze()\n",
    "    return e.to(torch.int)\n",
    "\n",
    "def uniform(dim, modulus):\n",
    "    return torch.randint(modulus, size = (dim,), dtype = torch.int32)\n",
    "\n",
    "def polymult(a, b, dim, modulus):\n",
    "    res = torch.zeros(dim).to(torch.int)\n",
    "    for i in range(dim):\n",
    "        for j in range(dim):\n",
    "            if i >= j:\n",
    "                res[i] += a[j]*b[i-j]\n",
    "                res[i] %= modulus\n",
    "            else:\n",
    "                res[i] -= a[j]*b[i-j] # Q - x mod Q = -x\n",
    "                res[i] %= modulus\n",
    "\n",
    "    res %= modulus\n",
    "    return res\n",
    "\n",
    "root_powers = torch.arange(N//2).to(torch.complex128)\n",
    "root_powers = torch.exp((1j*math.pi/N)*root_powers)\n",
    "\n",
    "root_powers_inv = torch.arange(0,-N//2,-1).to(torch.complex128)\n",
    "root_powers_inv = torch.exp((1j*math.pi/N)*root_powers_inv)\n",
    "\n",
    "def negacyclic_fft(a, N, Q):\n",
    "    acomplex = a.to(torch.complex128)\n",
    "\n",
    "    a_precomp = (acomplex[...,:N//2] + 1j * acomplex[..., N//2:]) * root_powers\n",
    "\n",
    "    return torch.fft.fft(a_precomp)\n",
    "\n",
    "def negacyclic_ifft(A, N, Q):\n",
    "    b = torch.fft.ifft(A)\n",
    "    b *= root_powers_inv\n",
    "\n",
    "    a = torch.cat((b.real, b.imag), dim=-1)\n",
    "\n",
    "    aint = a.to(torch.int32)\n",
    "    # only when Q is a power-of-two\n",
    "    aint &= Q-1\n",
    "\n",
    "    return aint\n",
    "\n",
    "# make an RLWE encryption of message\n",
    "def encrypt_to_fft(m, sfft):\n",
    "    ct = torch.stack([errgen(stddev, N), uniform(N, Q)])\n",
    "    ctfft = negacyclic_fft(ct, N, Q)\n",
    "\n",
    "    ctfft[0] += -ctfft[1]*sfft + negacyclic_fft(m, N, Q)\n",
    "\n",
    "    return ctfft\n",
    "\n",
    "def normalize(v, logQ):\n",
    "    # same as follows but no branch\n",
    "    \"\"\"\n",
    "    if v > Q//2:\n",
    "        v -= Q\n",
    "    \"\"\"\n",
    "    # vmod Q when Q is a power-of-two\n",
    "    Q = (1 << logQ)\n",
    "    v &= Q-1\n",
    "    # get msb\n",
    "    msb = (v & Q//2) >> (logQ - 1)\n",
    "    v -= (Q) * msb\n",
    "    return v\n",
    "\n",
    "def decrypt_from_fft(ctfft, sfft):\n",
    "    assert len(ctfft.size()) == 2\n",
    "    return normalize(negacyclic_ifft(ctfft[0] + ctfft[1]*sfft, N, Q), logQ)"
   ]
  },
  {
   "cell_type": "code",
   "execution_count": 2,
   "metadata": {},
   "outputs": [],
   "source": [
    "def encryptLWE(message, dim, modulus, key):\n",
    "    ct = uniform(dim + 1, modulus)\n",
    "\n",
    "    ct[0] = 0\n",
    "\n",
    "    ct[0] = message * modulus//4 - torch.dot(ct[1:], key)\n",
    "    ct[0] += errgen(stddev, 1)\n",
    "    ct &= modulus -1\n",
    "\n",
    "    return ct\n",
    "\n",
    "def decryptLWE(ct, sk, modulus):\n",
    "    m_dec = torch.dot(ct, torch.cat((torch.ones(1, dtype=torch.int32), sk)))\n",
    "    m_dec %= modulus\n",
    "\n",
    "    m_dec = m_dec.to(torch.float)\n",
    "    m_dec /= modulus/4.\n",
    "    m_dec = torch.round(m_dec)\n",
    "    return m_dec.to(torch.int)"
   ]
  },
  {
   "cell_type": "code",
   "execution_count": 3,
   "metadata": {},
   "outputs": [
    {
     "data": {
      "text/plain": [
       "tensor(1, dtype=torch.int32)"
      ]
     },
     "execution_count": 3,
     "metadata": {},
     "output_type": "execute_result"
    }
   ],
   "source": [
    "sk = keygen(N)\n",
    "msg = 1\n",
    "\n",
    "ctLWE = encryptLWE(msg, N, Q, sk)\n",
    "decryptLWE(ctLWE, sk, Q)"
   ]
  },
  {
   "cell_type": "code",
   "execution_count": 4,
   "metadata": {},
   "outputs": [
    {
     "data": {
      "text/plain": [
       "tensor([33554433,        1, 33554434,  ...,        2, 33554430,       -1],\n",
       "       dtype=torch.int32)"
      ]
     },
     "execution_count": 4,
     "metadata": {},
     "output_type": "execute_result"
    }
   ],
   "source": [
    "skfft = negacyclic_fft(sk, N, Q)\n",
    "\n",
    "msgRing = torch.tensor(range(N))\n",
    "msgRing %= 2\n",
    "msgRing ^= 1 # 1, 0,1,0,1,....\n",
    "msgRing *= Q//4 \n",
    "\n",
    "ctRLWE = encrypt_to_fft(msgRing, skfft)\n",
    "mDec = decrypt_from_fft(ctRLWE, skfft)\n",
    "mDec"
   ]
  },
  {
   "cell_type": "markdown",
   "metadata": {},
   "source": [
    "The free coefficient of `mDec` is given as follows.\n",
    "$$\n",
    "b_0 + (\\boldsymbol{a} \\cdot \\boldsymbol{s})_0,\n",
    "$$ \n",
    "where \n",
    "$$\n",
    "(\\boldsymbol{a} \\cdot \\boldsymbol{s})_0 = a_0 \\cdot s_0 + \\sum_{i = 1}^{N-1} -a_{N-i} \\cdot s_i .\n",
    "$$"
   ]
  },
  {
   "cell_type": "code",
   "execution_count": 5,
   "metadata": {},
   "outputs": [],
   "source": [
    "def extract(ctRLWE):\n",
    "    beta = ctRLWE[0][0]\n",
    "\n",
    "    alpha = ctRLWE[1][:]\n",
    "    alpha[1:] = -alpha[1:].flip(dims = [0])\n",
    "\n",
    "    return torch.cat((beta.unsqueeze(0), alpha))\n",
    "\n"
   ]
  },
  {
   "cell_type": "code",
   "execution_count": 6,
   "metadata": {},
   "outputs": [],
   "source": [
    "ctExtract = extract(negacyclic_ifft(ctRLWE, N, Q))"
   ]
  },
  {
   "cell_type": "code",
   "execution_count": 7,
   "metadata": {},
   "outputs": [
    {
     "data": {
      "text/plain": [
       "tensor(1, dtype=torch.int32)"
      ]
     },
     "execution_count": 7,
     "metadata": {},
     "output_type": "execute_result"
    }
   ],
   "source": [
    "decryptLWE(ctExtract, sk, Q)"
   ]
  },
  {
   "cell_type": "markdown",
   "metadata": {},
   "source": [
    "## 4.2. LWE key switching\n",
    "\n",
    "The LWE key switching key from $\\vec{s}_1$ to $\\vec{s}_2$ is composed of multiple LWE ciphertexts under secret $\\vec{s}_2$ encrypting scaled version of each element of $\\vec{s}_1$.\n",
    "$$\n",
    "ksk = \\{LWE_{\\vec{s}_2}(j B^r s_{1, i}) : r\\in [0,d), j \\in [0, B), i \\in [0, N) \\}.\n",
    "$$\n",
    "\n",
    "The key switching process for a given $LWE_{\\vec{s}_1}(m)$ ciphertext $(\\beta, \\vec{\\alpha})$ is done by following process.\n",
    "1. Decompose each $\\alpha_i$ so that $\\alpha_i = \\sum_r \\alpha_{i,r} B^r$.\n",
    "2. Calculate \n",
    "$$\n",
    "\\sum_i \\sum_r ksk[r, \\alpha_{i,r}, i] = \\sum_i \\sum_r LWE_{\\vec{s}_2}(\\alpha_{i,r} B^r s_{1, i})\\\\\n",
    " = \\sum_i LWE_{\\vec{s}_2}(\\alpha_{i} \\cdot s_{1, i}) \\\\\n",
    " = LWE_{\\vec{s}_2}( \\left< \\vec{\\alpha}, \\vec{s_1}\\right>)\n",
    "$$\n",
    "3. Add $(\\beta, 0)$ to the ciphertext, and get $LWE_{\\vec{s}_2}( \\left< \\vec{\\alpha}, \\vec{s_1}\\right> + \\beta) \\approx LWE_{\\vec{s}_2}(m)$\n",
    "\n",
    "Thus, the LWE key switching key is an array of dimension $(d, B, N, n + 1)$, where $N$ and $n$ are dimensions of $\\vec{s}_1$ and $\\vec{s}_2$, repspectively.\n",
    "\n",
    "NOTE: As in RLWE, we can apply approximate LWE key switching.\n",
    "\n",
    "We generate key switching key from `skN` to `sk` of modulus `Qks`."
   ]
  },
  {
   "cell_type": "code",
   "execution_count": 8,
   "metadata": {},
   "outputs": [],
   "source": [
    "sk = keygen(n)\n",
    "skN = keygen(N)"
   ]
  },
  {
   "cell_type": "code",
   "execution_count": 9,
   "metadata": {},
   "outputs": [],
   "source": [
    "dks = 2\n",
    "logBks = 6\n",
    "\n",
    "decomp_shift_ks = logQks - logBks*torch.arange(dks,0,-1).view(dks,1)\n",
    "mask_ks = (1 << logBks) - 1\n",
    "\n",
    "gvector_ks = 1 << decomp_shift_ks"
   ]
  },
  {
   "cell_type": "code",
   "execution_count": 46,
   "metadata": {},
   "outputs": [],
   "source": [
    "Bks = 1 << logBks\n",
    "# size: (dks, Bks, N, n+1)\n",
    "def LWEkskGen(sk, skN, logQks):\n",
    "    ksk = torch.randint(Qks, size = (dks, Bks, N, n+1), dtype= torch.int32)\n",
    "    # b <- e\n",
    "    ksk[..., 0] = torch.round(stddev * torch.randn(size = (dks, Bks, N))).to(torch.int32)\n",
    "    # b <- e - a * s\n",
    "    ksk[..., 0] -= torch.sum(ksk[:,:,:,1:] * sk, dim = -1)\n",
    "    ksk[..., 0] += (gvector_ks * torch.tensor(range(Bks))).view(dks, Bks, 1) * skN\n",
    "    ksk &= Qks - 1\n",
    "\n",
    "    return ksk"
   ]
  },
  {
   "cell_type": "code",
   "execution_count": null,
   "metadata": {},
   "outputs": [],
   "source": [
    "def LWEkeySwitch(ctLWE, kskLWE):\n",
    "    pass"
   ]
  }
 ],
 "metadata": {
  "kernelspec": {
   "display_name": "Python 3",
   "language": "python",
   "name": "python3"
  },
  "language_info": {
   "codemirror_mode": {
    "name": "ipython",
    "version": 3
   },
   "file_extension": ".py",
   "mimetype": "text/x-python",
   "name": "python",
   "nbconvert_exporter": "python",
   "pygments_lexer": "ipython3",
   "version": "3.11.3"
  },
  "orig_nbformat": 4
 },
 "nbformat": 4,
 "nbformat_minor": 2
}
