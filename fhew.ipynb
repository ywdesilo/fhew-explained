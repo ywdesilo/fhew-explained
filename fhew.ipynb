{
 "cells": [
  {
   "attachments": {},
   "cell_type": "markdown",
   "metadata": {},
   "source": [
    "# LWE and RLWE encryption\n",
    "## LWE encryption\n",
    "\n",
    "In FHEW-like HE, we use both LWE and RLWE encryption.\n",
    "LWE is for a ciphertext and RLWE is for the core part of bootstrapping so called *blind rotation*.\n",
    "\n",
    "We define LWE encryption as follows\n",
    "$$\\texttt{LWE}_{\\vec{s}, n, q}(m) = (\\beta, \\vec{\\alpha}) \\in \\mathbb{Z}_q^{n+1},$$\n",
    "where $\\beta = m + e + \\left< \\vec{\\alpha}, \\vec{s} \\right> \\in \\mathbb{Z}_q$, and $\\vec{s} \\leftarrow \\chi_{key}$ is a secret key and $\\vec{e} \\leftarrow \\chi_{err}$ is a added noise for security.\n",
    "$\\vec{\\alpha}$ is unifromly sampled in $\\mathbb{Z}_q^n$.\n",
    "\n",
    "Here, we choose $\\chi_{key}$ as binary distribution and $\\chi_{err}$ as a Gaussian distribution with standard deviation $3.2$.\n",
    "\n",
    "Let's make the encryption method. We use pytorch for easy and fast implementation."
   ]
  },
  {
   "cell_type": "code",
   "execution_count": 1,
   "metadata": {},
   "outputs": [],
   "source": [
    "import torch\n",
    "import numpy as np\n"
   ]
  },
  {
   "attachments": {},
   "cell_type": "markdown",
   "metadata": {},
   "source": [
    "We use parameter sets $(n, q, \\sigma) = (512, 2048, 3.2)$."
   ]
  },
  {
   "cell_type": "code",
   "execution_count": 4,
   "metadata": {},
   "outputs": [],
   "source": [
    "std_dev = 3.2\n",
    "n = 512\n",
    "q = 2048"
   ]
  },
  {
   "attachments": {},
   "cell_type": "markdown",
   "metadata": {},
   "source": [
    "Following are generator of key and error.\n",
    "\n",
    "NOTE: Those generators are not secure. You should **NOT** use them in practice."
   ]
  },
  {
   "cell_type": "code",
   "execution_count": 42,
   "metadata": {},
   "outputs": [],
   "source": [
    "def keygen(dim):\n",
    "    return torch.randint(2, size = (dim,))\n",
    "def errgen(dim, stddev):\n",
    "    return torch.round(std_dev*torch.randn(dim,))"
   ]
  },
  {
   "cell_type": "code",
   "execution_count": 37,
   "metadata": {},
   "outputs": [],
   "source": [
    "e = error_gen()"
   ]
  }
 ],
 "metadata": {
  "kernelspec": {
   "display_name": "Python 3",
   "language": "python",
   "name": "python3"
  },
  "language_info": {
   "codemirror_mode": {
    "name": "ipython",
    "version": 3
   },
   "file_extension": ".py",
   "mimetype": "text/x-python",
   "name": "python",
   "nbconvert_exporter": "python",
   "pygments_lexer": "ipython3",
   "version": "3.11.3"
  },
  "orig_nbformat": 4
 },
 "nbformat": 4,
 "nbformat_minor": 2
}
