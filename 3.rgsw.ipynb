{
 "cells": [
  {
   "cell_type": "markdown",
   "metadata": {},
   "source": [
    "# 3. RGSW Operation\n",
    "\n",
    "Now we have all the required building blocks for RGSW operations.\n",
    "We already checked RLWE' multiplication is working.\n",
    "\n",
    "Call all previous methods"
   ]
  },
  {
   "cell_type": "code",
   "execution_count": 526,
   "metadata": {},
   "outputs": [],
   "source": [
    "# Functions from previous lecturenote\n",
    "import torch\n",
    "import math\n",
    "\n",
    "stddev = 3.2\n",
    "logQ = 27\n",
    "\n",
    "N = 2**10\n",
    "Q = 2**logQ\n",
    "\n",
    "\n",
    "def keygen(dim):\n",
    "    return torch.randint(2, size = (dim,))\n",
    "\n",
    "def errgen(stddev):\n",
    "    e = torch.round(stddev*torch.randn(1))\n",
    "    e = e.squeeze()\n",
    "    return e.to(torch.int)\n",
    "\n",
    "def errgen(stddev, N):\n",
    "    e = torch.round(stddev*torch.randn(N))\n",
    "    e = e.squeeze()\n",
    "    return e.to(torch.int)\n",
    "\n",
    "def uniform(dim, modulus):\n",
    "    return torch.randint(modulus, size = (dim,))\n",
    "\n",
    "def polymult(a, b, dim, modulus):\n",
    "    res = torch.zeros(dim).to(torch.int)\n",
    "    for i in range(dim):\n",
    "        for j in range(dim):\n",
    "            if i >= j:\n",
    "                res[i] += a[j]*b[i-j]\n",
    "                res[i] %= modulus\n",
    "            else:\n",
    "                res[i] -= a[j]*b[i-j] # Q - x mod Q = -x\n",
    "                res[i] %= modulus\n",
    "\n",
    "    res %= modulus\n",
    "    return res\n",
    "\n",
    "root_powers = torch.arange(N//2).to(torch.complex128)\n",
    "root_powers = torch.exp((1j*math.pi/N)*root_powers)\n",
    "\n",
    "root_powers_inv = torch.arange(0,-N//2,-1).to(torch.complex128)\n",
    "root_powers_inv = torch.exp((1j*math.pi/N)*root_powers_inv)\n",
    "\n",
    "def negacyclic_fft(a, N, Q):\n",
    "    acomplex = a.to(torch.complex128)\n",
    "\n",
    "    a_precomp = (acomplex[...,:N//2] + 1j * acomplex[..., N//2:]) * root_powers\n",
    "\n",
    "    return torch.fft.fft(a_precomp)\n",
    "\n",
    "def negacyclic_ifft(A, N, Q):\n",
    "    b = torch.fft.ifft(A)\n",
    "    b *= root_powers_inv\n",
    "\n",
    "    a = torch.cat((b.real, b.imag), dim=-1)\n",
    "\n",
    "    aint = a.to(torch.int32)\n",
    "    # only when Q is a power-of-two\n",
    "    aint &= Q-1\n",
    "\n",
    "    return aint"
   ]
  },
  {
   "cell_type": "code",
   "execution_count": 527,
   "metadata": {},
   "outputs": [],
   "source": [
    "# make an RLWE encryption of message\n",
    "def encrypt_to_fft(m, sfft):\n",
    "    ct = torch.stack([errgen(stddev, N), uniform(N, Q)])\n",
    "    ctfft = negacyclic_fft(ct, N, Q)\n",
    "\n",
    "    ctfft[0] += -ctfft[1]*sfft + negacyclic_fft(m, N, Q)\n",
    "\n",
    "    return ctfft\n",
    "\n",
    "def normalize(v, logQ):\n",
    "    # same as follows but no branch\n",
    "    \"\"\"\n",
    "    if v > Q//2:\n",
    "        v -= Q\n",
    "    \"\"\"\n",
    "    # vmod Q when Q is a power-of-two\n",
    "    Q = (1 << logQ)\n",
    "    v &= Q-1\n",
    "    # get msb\n",
    "    msb = (v & Q//2) >> (logQ - 1)\n",
    "    v -= (Q) * msb\n",
    "    return v\n",
    "\n",
    "def decrypt_from_fft(ctfft, sfft):\n",
    "    return normalize(negacyclic_ifft(ctfft[0] + ctfft[1]*sfft, N, Q), logQ)"
   ]
  },
  {
   "cell_type": "code",
   "execution_count": 528,
   "metadata": {},
   "outputs": [],
   "source": [
    "# we will use B-ary decomposition, i.e., cut digits by logB bits\n",
    "d = 3\n",
    "logB = 7\n",
    "\n",
    "decomp_shift = logQ - logB*torch.arange(d,0,-1).view(d,1)\n",
    "mask = (1 << logB) - 1\n",
    "\n",
    "gvector = 1 << decomp_shift"
   ]
  },
  {
   "cell_type": "code",
   "execution_count": 529,
   "metadata": {},
   "outputs": [],
   "source": [
    "def decompose(a):\n",
    "    \n",
    "    assert len(a.size()) <= 2\n",
    "    # for RLWE'\n",
    "    if len(a.size()) == 1:\n",
    "        res = (a.unsqueeze(0) >> decomp_shift.view(d, 1)) & mask\n",
    "        return res\n",
    "    # for RGSW\n",
    "    elif len(a.size()) == 2:\n",
    "        res = (a.unsqueeze(0) >> decomp_shift.view(d, 1, 1)) & mask\n",
    "        return res\n",
    "\n",
    "msbmask = 0\n",
    "for i in decomp_shift:\n",
    "    msbmask += (1<<(i+logB-1))\n",
    "\n",
    "bin(msbmask)[2:]\n",
    "\n",
    "# about twice heavier than unsigned decomposition\n",
    "# it returns value -B/2 <= * <= B/2, not < B/2, but okay\n",
    "def signed_decompose(a):\n",
    "    # carry\n",
    "    da = decompose(a + (a & msbmask))\n",
    "    # -B\n",
    "    da -= decompose((a & msbmask))\n",
    "    return da"
   ]
  },
  {
   "cell_type": "code",
   "execution_count": 530,
   "metadata": {},
   "outputs": [],
   "source": [
    "def encrypt_rlwep_fft(z, skfft):\n",
    "    # it has a dimension of d, 2, N\n",
    "    rlwep = torch.zeros(d, 2, N, dtype=torch.int32)\n",
    "\n",
    "    # generate the 'a' part\n",
    "    rlwep[:, 1, :] = torch.randint(Q, size = (d, N), dtype= torch.int32)\n",
    "\n",
    "    # add error on b\n",
    "    # INSECURE: need to be fixed later\n",
    "    rlwep[:, 0, :] = torch.round(stddev * torch.randn(size = (d, N)))\n",
    "\n",
    "    # following is equal to rlwep %= Q, but a faster version\n",
    "    rlwep &= (Q-1)\n",
    "    rlwep = normalize(rlwep, logQ)\n",
    "\n",
    "    # do fft for easy a*s\n",
    "    rlwepfft = negacyclic_fft(rlwep, N, Q)\n",
    "\n",
    "    # now b = -a*sk + e\n",
    "    rlwepfft[:, 0, :] -= rlwepfft[:, 1, :] * skfft.view(1,N//2)\n",
    "\n",
    "    # add decomposition of z * vec{g}\n",
    "    gz = gvector * z\n",
    "    rlwepfft[:, 0, :] += negacyclic_fft(gz, N, Q)\n",
    "\n",
    "    return rlwepfft"
   ]
  },
  {
   "cell_type": "markdown",
   "metadata": {},
   "source": [
    "Test the RLWE' encryptions\n",
    "\n",
    "1. Key gen and encryption"
   ]
  },
  {
   "cell_type": "code",
   "execution_count": 531,
   "metadata": {},
   "outputs": [],
   "source": [
    "# generate two keys\n",
    "s1 = keygen(N)\n",
    "s2 = keygen(N)\n",
    "\n",
    "s1fft = negacyclic_fft(s1, N, Q)\n",
    "s2fft = negacyclic_fft(s2, N, Q)"
   ]
  },
  {
   "cell_type": "code",
   "execution_count": 532,
   "metadata": {},
   "outputs": [
    {
     "data": {
      "text/plain": [
       "tensor([       0,        0, 33554432, 33554432,        0, 33554432,        0,\n",
       "               0,        0,        0], dtype=torch.int32)"
      ]
     },
     "execution_count": 532,
     "metadata": {},
     "output_type": "execute_result"
    }
   ],
   "source": [
    "m = torch.zeros((N), dtype=torch.int32)\n",
    "m[2] = Q//4\n",
    "m[3] = Q//4\n",
    "m[5] = Q//4\n",
    "\n",
    "m[:10]"
   ]
  },
  {
   "cell_type": "code",
   "execution_count": 533,
   "metadata": {},
   "outputs": [
    {
     "data": {
      "text/plain": [
       "tensor([       1,        0, 33554434, 33554434,       -2, 33554431,       -8,\n",
       "              -5,        2,        1], dtype=torch.int32)"
      ]
     },
     "execution_count": 533,
     "metadata": {},
     "output_type": "execute_result"
    }
   ],
   "source": [
    "ctfft = encrypt_to_fft(m, s1fft)\n",
    "mdec = decrypt_from_fft(ctfft, s1fft)\n",
    "mdec[:10]"
   ]
  },
  {
   "cell_type": "markdown",
   "metadata": {},
   "source": [
    "2. Key switching key ($s_1 \\rightarrow s_2$) gen"
   ]
  },
  {
   "cell_type": "code",
   "execution_count": 534,
   "metadata": {},
   "outputs": [],
   "source": [
    "kskfft = encrypt_rlwep_fft(s1, s2fft)"
   ]
  },
  {
   "cell_type": "code",
   "execution_count": 535,
   "metadata": {},
   "outputs": [
    {
     "data": {
      "text/plain": [
       "torch.Size([3, 2, 512])"
      ]
     },
     "execution_count": 535,
     "metadata": {},
     "output_type": "execute_result"
    }
   ],
   "source": [
    "kskfft.size()"
   ]
  },
  {
   "cell_type": "markdown",
   "metadata": {},
   "source": [
    "3. Try key switching"
   ]
  },
  {
   "cell_type": "code",
   "execution_count": 536,
   "metadata": {},
   "outputs": [],
   "source": [
    "def keyswitch(ctfft, kskfft):\n",
    "    ct = negacyclic_ifft(ctfft, N, Q)\n",
    "    \n",
    "    da = signed_decompose(ct[1])\n",
    "    dafft = negacyclic_fft(da, N, Q)\n",
    "\n",
    "    # a * RLWE'(s1)\n",
    "    prodfft = dafft.view(d, 1, N//2) * kskfft\n",
    "    prodsumfft = torch.sum(prodfft, dim = 0)\n",
    "\n",
    "    # (b,0) + a*RLWE'(s1)\n",
    "    prodsumfft[0] += ctfft[0]\n",
    "\n",
    "    return prodsumfft\n"
   ]
  },
  {
   "cell_type": "code",
   "execution_count": 537,
   "metadata": {},
   "outputs": [
    {
     "name": "stdout",
     "output_type": "stream",
     "text": [
      "m:\n",
      " tensor([       0,        0, 33554432, 33554432,        0, 33554432,        0,\n",
      "               0,        0,        0], dtype=torch.int32)\n",
      "decrypted:\n",
      " tensor([    6209,    23094, 33577246, 33552794,     5587, 33577680,    17151,\n",
      "             444,    10883,    12415], dtype=torch.int32)\n",
      "decrypted (scaled to 1):\n",
      " tensor([1.8504e-04, 6.8825e-04, 1.0007e+00, 9.9995e-01, 1.6651e-04, 1.0007e+00,\n",
      "        5.1114e-04, 1.3232e-05, 3.2434e-04, 3.7000e-04])\n"
     ]
    }
   ],
   "source": [
    "switched = keyswitch(ctfft, kskfft)\n",
    "\n",
    "mks = decrypt_from_fft(switched, s2fft)\n",
    "print(\"m:\\n\",m[:10])\n",
    "print(\"decrypted:\\n\",mks[:10])\n",
    "print(\"decrypted (scaled to 1):\\n\",mks[:10]/(Q//4))"
   ]
  },
  {
   "cell_type": "markdown",
   "metadata": {},
   "source": [
    "Bonus: unsigned decomposition version"
   ]
  },
  {
   "cell_type": "code",
   "execution_count": 538,
   "metadata": {},
   "outputs": [],
   "source": [
    "def unsigned_keyswitch(ctfft, kskfft):\n",
    "    ct = negacyclic_ifft(ctfft, N, Q)\n",
    "    \n",
    "    da = decompose(ct[1])\n",
    "    dafft = negacyclic_fft(da, N, Q)\n",
    "\n",
    "    # a * RLWE'(s1)\n",
    "    prodfft = dafft.view(d, 1, N//2) * kskfft\n",
    "    prodsumfft = torch.sum(prodfft, dim = 0)\n",
    "\n",
    "    # (b,0) + a*RLWE'(s1)\n",
    "    prodsumfft[0] += ctfft[0]\n",
    "\n",
    "    return prodsumfft\n"
   ]
  },
  {
   "cell_type": "code",
   "execution_count": 539,
   "metadata": {},
   "outputs": [
    {
     "name": "stdout",
     "output_type": "stream",
     "text": [
      "m:\n",
      " tensor([       0,        0, 33554432, 33554432,        0, 33554432,        0,\n",
      "               0,        0,        0], dtype=torch.int32)\n",
      "decrypted:\n",
      " tensor([   12392,     3012, 33568214, 33582208,    20939, 33564397,    18491,\n",
      "           21333,    18755,    36702], dtype=torch.int32)\n",
      "decrypted (scaled to 1):\n",
      " tensor([3.6931e-04, 8.9765e-05, 1.0004e+00, 1.0008e+00, 6.2403e-04, 1.0003e+00,\n",
      "        5.5107e-04, 6.3577e-04, 5.5894e-04, 1.0938e-03])\n"
     ]
    }
   ],
   "source": [
    "switched_unsigned = unsigned_keyswitch(ctfft, kskfft)\n",
    "\n",
    "umks = decrypt_from_fft(switched_unsigned, s2fft)\n",
    "print(\"m:\\n\",m[:10])\n",
    "print(\"decrypted:\\n\",umks[:10])\n",
    "print(\"decrypted (scaled to 1):\\n\",umks[:10]/(Q//4))\n",
    "\n"
   ]
  },
  {
   "cell_type": "code",
   "execution_count": 540,
   "metadata": {},
   "outputs": [
    {
     "name": "stdout",
     "output_type": "stream",
     "text": [
      "signed\n",
      "Error variance: \n",
      " tensor(7.1657e-09)\n",
      "unsigned\n",
      "Error variance: \n",
      " tensor(5.8520e-09)\n"
     ]
    }
   ],
   "source": [
    "print(\"signed\")\n",
    "print(\"Error variance: \\n\", torch.var((m-mks)/Q))\n",
    "\n",
    "print(\"unsigned\")\n",
    "print(\"Error variance: \\n\", torch.var((m-umks)/Q))\n"
   ]
  }
 ],
 "metadata": {
  "kernelspec": {
   "display_name": "Python 3",
   "language": "python",
   "name": "python3"
  },
  "language_info": {
   "codemirror_mode": {
    "name": "ipython",
    "version": 3
   },
   "file_extension": ".py",
   "mimetype": "text/x-python",
   "name": "python",
   "nbconvert_exporter": "python",
   "pygments_lexer": "ipython3",
   "version": "3.11.3"
  },
  "orig_nbformat": 4
 },
 "nbformat": 4,
 "nbformat_minor": 2
}
