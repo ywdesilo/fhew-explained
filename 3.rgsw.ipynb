{
 "cells": [
  {
   "cell_type": "markdown",
   "metadata": {},
   "source": [
    "# 3. RGSW Operation\n",
    "\n",
    "Now we have all the required building blocks for RGSW operations.\n",
    "We already checked RLWE' multiplication is working.\n",
    "\n",
    "Call all previous methods"
   ]
  },
  {
   "cell_type": "code",
   "execution_count": 1,
   "metadata": {},
   "outputs": [],
   "source": [
    "# Functions from previous lecturenote\n",
    "import torch\n",
    "import math\n",
    "\n",
    "stddev = 3.2\n",
    "logQ = 27\n",
    "\n",
    "N = 2**10\n",
    "Q = 2**logQ\n",
    "\n",
    "def keygen(dim):\n",
    "    return torch.randint(2, size = (dim,))\n",
    "\n",
    "def errgen(stddev):\n",
    "    e = torch.round(stddev*torch.randn(1))\n",
    "    e = e.squeeze()\n",
    "    return e.to(torch.int)\n",
    "\n",
    "def errgen(stddev, N):\n",
    "    e = torch.round(stddev*torch.randn(N))\n",
    "    e = e.squeeze()\n",
    "    return e.to(torch.int)\n",
    "\n",
    "def uniform(dim, modulus):\n",
    "    return torch.randint(modulus, size = (dim,))\n",
    "\n",
    "def polymult(a, b, dim, modulus):\n",
    "    res = torch.zeros(dim).to(torch.int)\n",
    "    for i in range(dim):\n",
    "        for j in range(dim):\n",
    "            if i >= j:\n",
    "                res[i] += a[j]*b[i-j]\n",
    "                res[i] %= modulus\n",
    "            else:\n",
    "                res[i] -= a[j]*b[i-j] # Q - x mod Q = -x\n",
    "                res[i] %= modulus\n",
    "\n",
    "    res %= modulus\n",
    "    return res\n",
    "\n",
    "root_powers = torch.arange(N//2).to(torch.complex128)\n",
    "root_powers = torch.exp((1j*math.pi/N)*root_powers)\n",
    "\n",
    "root_powers_inv = torch.arange(0,-N//2,-1).to(torch.complex128)\n",
    "root_powers_inv = torch.exp((1j*math.pi/N)*root_powers_inv)\n",
    "\n",
    "def negacyclic_fft(a, N, Q):\n",
    "    acomplex = a.to(torch.complex128)\n",
    "\n",
    "    a_precomp = (acomplex[...,:N//2] + 1j * acomplex[..., N//2:]) * root_powers\n",
    "\n",
    "    return torch.fft.fft(a_precomp)\n",
    "\n",
    "def negacyclic_ifft(A, N, Q):\n",
    "    b = torch.fft.ifft(A)\n",
    "    b *= root_powers_inv\n",
    "\n",
    "    a = torch.cat((b.real, b.imag), dim=-1)\n",
    "\n",
    "    aint = a.to(torch.int32)\n",
    "    # only when Q is a power-of-two\n",
    "    aint &= Q-1\n",
    "\n",
    "    return aint"
   ]
  },
  {
   "cell_type": "code",
   "execution_count": 2,
   "metadata": {},
   "outputs": [],
   "source": [
    "# make an RLWE encryption of message\n",
    "def encrypt_to_fft(m, sfft):\n",
    "    ct = torch.stack([errgen(stddev, N), uniform(N, Q)])\n",
    "    ctfft = negacyclic_fft(ct, N, Q)\n",
    "\n",
    "    ctfft[0] += -ctfft[1]*sfft + negacyclic_fft(m, N, Q)\n",
    "\n",
    "    return ctfft\n",
    "\n",
    "def normalize(v, logQ):\n",
    "    # same as follows but no branch\n",
    "    \"\"\"\n",
    "    if v > Q//2:\n",
    "        v -= Q\n",
    "    \"\"\"\n",
    "    # vmod Q when Q is a power-of-two\n",
    "    Q = (1 << logQ)\n",
    "    v &= Q-1\n",
    "    # get msb\n",
    "    msb = (v & Q//2) >> (logQ - 1)\n",
    "    v -= (Q) * msb\n",
    "    return v\n",
    "\n",
    "def decrypt_from_fft(ctfft, sfft):\n",
    "    assert len(ctfft.size()) == 2\n",
    "    return normalize(negacyclic_ifft(ctfft[0] + ctfft[1]*sfft, N, Q), logQ)"
   ]
  },
  {
   "cell_type": "code",
   "execution_count": 3,
   "metadata": {},
   "outputs": [],
   "source": [
    "# we will use B-ary decomposition, i.e., cut digits by logB bits\n",
    "d = 3\n",
    "logB = 7\n",
    "\n",
    "decomp_shift = logQ - logB*torch.arange(d,0,-1).view(d,1)\n",
    "mask = (1 << logB) - 1\n",
    "\n",
    "gvector = 1 << decomp_shift"
   ]
  },
  {
   "cell_type": "code",
   "execution_count": 4,
   "metadata": {},
   "outputs": [],
   "source": [
    "def decompose(a):\n",
    "    \n",
    "    assert len(a.size()) <= 2\n",
    "    # for RLWE'\n",
    "    if len(a.size()) == 1:\n",
    "        res = (a.unsqueeze(0) >> decomp_shift.view(d, 1)) & mask\n",
    "        return res\n",
    "    # for RGSW\n",
    "    elif len(a.size()) == 2:\n",
    "        res = (a.unsqueeze(0) >> decomp_shift.view(d, 1, 1)) & mask\n",
    "        return res\n",
    "\n",
    "msbmask = 0\n",
    "for i in decomp_shift:\n",
    "    msbmask += (1<<(i+logB-1))\n",
    "\n",
    "bin(msbmask)[2:]\n",
    "\n",
    "# about twice heavier than unsigned decomposition\n",
    "# it returns value -B/2 <= * <= B/2, not < B/2, but okay\n",
    "def signed_decompose(a):\n",
    "    # carry\n",
    "    da = decompose(a + (a & msbmask))\n",
    "    # -B\n",
    "    da -= decompose((a & msbmask))\n",
    "    return da"
   ]
  },
  {
   "cell_type": "code",
   "execution_count": 5,
   "metadata": {},
   "outputs": [],
   "source": [
    "def encrypt_rlwep_fft(z, skfft):\n",
    "    # it has a dimension of d, 2, N\n",
    "    rlwep = torch.zeros(d, 2, N, dtype=torch.int32)\n",
    "\n",
    "    # generate the 'a' part\n",
    "    rlwep[:, 1, :] = torch.randint(Q, size = (d, N), dtype= torch.int32)\n",
    "\n",
    "    # add error on b\n",
    "    # INSECURE: need to be fixed later\n",
    "    rlwep[:, 0, :] = torch.round(stddev * torch.randn(size = (d, N))).to(torch.int32)\n",
    "\n",
    "    # following is equal to rlwep %= Q, but a faster version\n",
    "    rlwep &= (Q-1)\n",
    "    rlwep = normalize(rlwep, logQ)\n",
    "\n",
    "    # do fft for easy a*s\n",
    "    rlwepfft = negacyclic_fft(rlwep, N, Q)\n",
    "\n",
    "    # now b = -a*sk + e\n",
    "    rlwepfft[:, 0, :] -= rlwepfft[:, 1, :] * skfft.view(1,N//2)\n",
    "\n",
    "    # add decomposition of z * vec{g}\n",
    "    gz = gvector * z\n",
    "    rlwepfft[:, 0, :] += negacyclic_fft(gz, N, Q)\n",
    "\n",
    "    return rlwepfft"
   ]
  },
  {
   "cell_type": "markdown",
   "metadata": {},
   "source": [
    "## 3.1. Test the RLWE' encryptions\n",
    "\n",
    "1. Key gen and encryption"
   ]
  },
  {
   "cell_type": "code",
   "execution_count": 6,
   "metadata": {},
   "outputs": [],
   "source": [
    "# generate two keys\n",
    "s1 = keygen(N)\n",
    "s2 = keygen(N)\n",
    "\n",
    "s1fft = negacyclic_fft(s1, N, Q)\n",
    "s2fft = negacyclic_fft(s2, N, Q)"
   ]
  },
  {
   "cell_type": "code",
   "execution_count": 7,
   "metadata": {},
   "outputs": [
    {
     "data": {
      "text/plain": [
       "tensor([       0,        0, 33554432, 33554432,        0, 33554432,        0,\n",
       "               0,        0,        0], dtype=torch.int32)"
      ]
     },
     "execution_count": 7,
     "metadata": {},
     "output_type": "execute_result"
    }
   ],
   "source": [
    "m = torch.zeros((N), dtype=torch.int32)\n",
    "m[2] = Q//4\n",
    "m[3] = Q//4\n",
    "m[5] = Q//4\n",
    "\n",
    "m[:10]"
   ]
  },
  {
   "cell_type": "code",
   "execution_count": 8,
   "metadata": {},
   "outputs": [
    {
     "data": {
      "text/plain": [
       "tensor([       4,       -1, 33554434, 33554431,        1, 33554431,       -2,\n",
       "              -4,       -5,        2], dtype=torch.int32)"
      ]
     },
     "execution_count": 8,
     "metadata": {},
     "output_type": "execute_result"
    }
   ],
   "source": [
    "ctfft = encrypt_to_fft(m, s1fft)\n",
    "mdec = decrypt_from_fft(ctfft, s1fft)\n",
    "mdec[:10]"
   ]
  },
  {
   "cell_type": "markdown",
   "metadata": {},
   "source": [
    "2. Key switching key ($s_1 \\rightarrow s_2$) gen"
   ]
  },
  {
   "cell_type": "code",
   "execution_count": 9,
   "metadata": {},
   "outputs": [],
   "source": [
    "kskfft = encrypt_rlwep_fft(s1, s2fft)"
   ]
  },
  {
   "cell_type": "code",
   "execution_count": 10,
   "metadata": {},
   "outputs": [
    {
     "data": {
      "text/plain": [
       "torch.Size([3, 2, 512])"
      ]
     },
     "execution_count": 10,
     "metadata": {},
     "output_type": "execute_result"
    }
   ],
   "source": [
    "kskfft.size()"
   ]
  },
  {
   "cell_type": "markdown",
   "metadata": {},
   "source": [
    "3. Try key switching"
   ]
  },
  {
   "cell_type": "code",
   "execution_count": 11,
   "metadata": {},
   "outputs": [],
   "source": [
    "def keyswitch(ctfft, kskfft):\n",
    "    ct = negacyclic_ifft(ctfft, N, Q)\n",
    "    \n",
    "    da = signed_decompose(ct[1])\n",
    "    dafft = negacyclic_fft(da, N, Q)\n",
    "\n",
    "    # a * RLWE'(s1)\n",
    "    prodfft = dafft.view(d, 1, N//2) * kskfft\n",
    "    prodsumfft = torch.sum(prodfft, dim = 0)\n",
    "\n",
    "    # (b,0) + a*RLWE'(s1)\n",
    "    prodsumfft[0] += ctfft[0]\n",
    "\n",
    "    return prodsumfft\n"
   ]
  },
  {
   "cell_type": "code",
   "execution_count": 12,
   "metadata": {},
   "outputs": [
    {
     "name": "stdout",
     "output_type": "stream",
     "text": [
      "m:\n",
      " tensor([       0,        0, 33554432, 33554432,        0, 33554432,        0,\n",
      "               0,        0,        0], dtype=torch.int32)\n",
      "decrypted:\n",
      " tensor([    9344,    14083, 33583855, 33571263,     7272, 33562586,    18551,\n",
      "           16576,    11830,     8365], dtype=torch.int32)\n",
      "decrypted (scaled to 1):\n",
      " tensor([2.7847e-04, 4.1971e-04, 1.0009e+00, 1.0005e+00, 2.1672e-04, 1.0002e+00,\n",
      "        5.5286e-04, 4.9400e-04, 3.5256e-04, 2.4930e-04])\n"
     ]
    }
   ],
   "source": [
    "switched = keyswitch(ctfft, kskfft)\n",
    "\n",
    "mks = decrypt_from_fft(switched, s2fft)\n",
    "print(\"m:\\n\",m[:10])\n",
    "print(\"decrypted:\\n\",mks[:10])\n",
    "print(\"decrypted (scaled to 1):\\n\",mks[:10]/(Q//4))"
   ]
  },
  {
   "cell_type": "markdown",
   "metadata": {},
   "source": [
    "Bonus: unsigned decomposition version"
   ]
  },
  {
   "cell_type": "code",
   "execution_count": 13,
   "metadata": {},
   "outputs": [],
   "source": [
    "def unsigned_keyswitch(ctfft, kskfft):\n",
    "    ct = negacyclic_ifft(ctfft, N, Q)\n",
    "    \n",
    "    da = decompose(ct[1])\n",
    "    dafft = negacyclic_fft(da, N, Q)\n",
    "\n",
    "    # a * RLWE'(s1)\n",
    "    prodfft = dafft.view(d, 1, N//2) * kskfft\n",
    "    prodsumfft = torch.sum(prodfft, dim = 0)\n",
    "\n",
    "    # (b,0) + a*RLWE'(s1)\n",
    "    prodsumfft[0] += ctfft[0]\n",
    "\n",
    "    return prodsumfft\n"
   ]
  },
  {
   "cell_type": "code",
   "execution_count": 14,
   "metadata": {},
   "outputs": [
    {
     "name": "stdout",
     "output_type": "stream",
     "text": [
      "m:\n",
      " tensor([       0,        0, 33554432, 33554432,        0, 33554432,        0,\n",
      "               0,        0,        0], dtype=torch.int32)\n",
      "decrypted:\n",
      " tensor([   12873,     8763, 33551106, 33551179,     4456, 33558776,    10529,\n",
      "            6797,     7232,    14636], dtype=torch.int32)\n",
      "decrypted (scaled to 1):\n",
      " tensor([3.8365e-04, 2.6116e-04, 9.9990e-01, 9.9990e-01, 1.3280e-04, 1.0001e+00,\n",
      "        3.1379e-04, 2.0257e-04, 2.1553e-04, 4.3619e-04])\n"
     ]
    }
   ],
   "source": [
    "switched_unsigned = unsigned_keyswitch(ctfft, kskfft)\n",
    "\n",
    "umks = decrypt_from_fft(switched_unsigned, s2fft)\n",
    "print(\"m:\\n\",m[:10])\n",
    "print(\"decrypted:\\n\",umks[:10])\n",
    "print(\"decrypted (scaled to 1):\\n\",umks[:10]/(Q//4))\n",
    "\n"
   ]
  },
  {
   "cell_type": "code",
   "execution_count": 15,
   "metadata": {},
   "outputs": [
    {
     "name": "stdout",
     "output_type": "stream",
     "text": [
      "signed\n",
      "Error variance: \n",
      " tensor(7.3055e-09)\n",
      "unsigned\n",
      "Error variance: \n",
      " tensor(9.8936e-09)\n"
     ]
    }
   ],
   "source": [
    "print(\"signed\")\n",
    "print(\"Error variance: \\n\", torch.var((m-mks)/Q))\n",
    "\n",
    "print(\"unsigned\")\n",
    "print(\"Error variance: \\n\", torch.var((m-umks)/Q))\n"
   ]
  },
  {
   "cell_type": "markdown",
   "metadata": {},
   "source": [
    "## 3.2. RGSW Encryption\n",
    "\n",
    "RGSW(m) is composed of two RLWE' ciphertexts, i.e., \n",
    "\n",
    "$$\n",
    "RGSW(m) = ( RLWE'(m), RLWE'(\\boldsymbol{m_1}\\cdot s) )\n",
    "$$\n",
    "\n",
    "The multiplication between RLWE and RGSW is defined as follows\n",
    "$$\n",
    "\\circledast: RLWE \\times RGSW \\mapsto RLWE\n",
    "$$\n",
    "Let $(\\boldsymbol{b}, \\boldsymbol{a})$ is encryption of $\\boldsymbol{m_0}$\n",
    "$$\n",
    "(\\boldsymbol{b}, \\boldsymbol{a}) \\circledast RGSW(m) \\\\\n",
    "= (\\boldsymbol{b}, \\boldsymbol{a}) \\circledast ( RLWE'(\\boldsymbol{m_1}), RLWE'(\\boldsymbol{m_1}\\cdot s) )\\\\\n",
    "= \\boldsymbol{b} \\odot RLWE'(\\boldsymbol{m_1}) \n",
    "+ \\boldsymbol{a} \\odot RLWE'(\\boldsymbol{m_1}\\cdot s)\\\\\n",
    "= RLWE(\\boldsymbol{bm_1}) + RLWE(\\boldsymbol{asm_1})\\\\\n",
    "= RLWE(\\boldsymbol{(b+as)m_1})\\\\\n",
    "= RLWE(\\boldsymbol{(m_0 + e)m_1}) \\\\\n",
    "\\approx RLWE(\\boldsymbol{m_0 m_1})\n",
    "$$\n",
    "\n",
    "Similar to RLWE', we can define encryption function as follows."
   ]
  },
  {
   "cell_type": "code",
   "execution_count": 16,
   "metadata": {},
   "outputs": [],
   "source": [
    "def encrypt_rgsw_fft(z, skfft):\n",
    "    # RGSW has a dimension of d, 2, 2, N\n",
    "    rgsw = torch.zeros(d, 2, 2, N, dtype=torch.int32)\n",
    "\n",
    "    # generate the 'a' part\n",
    "    # INSECURE: to be fixed later\n",
    "    rgsw[:, :, 1, :] = torch.randint(Q, size = (d, 2 , N), dtype= torch.int32)\n",
    "\n",
    "    # add error on b\n",
    "    # INSECURE: to be fixed later\n",
    "    rgsw[:, :, 0, :] = torch.round(stddev * torch.randn(size = (d, 2, N)))\n",
    "\n",
    "    # following is equal to rgsw %= Q, but a faster version\n",
    "    rgsw &= (Q-1)\n",
    "    rgsw = normalize(rgsw, logQ)\n",
    "\n",
    "    # do fft for easy a*s\n",
    "    rgswfft = negacyclic_fft(rgsw, N, Q)\n",
    "\n",
    "    # now b = -a*sk + e\n",
    "    rgswfft[:, :, 0, :] -= rgswfft[:, :, 1, :] * skfft.view(1, 1, N//2)\n",
    "\n",
    "    # encrypt (z, z*sk) multiplied by g\n",
    "    gzfft = negacyclic_fft(gvector * z, N, Q)\n",
    "    rgswfft[:, 0, 0, :] += gzfft\n",
    "    rgswfft[:, 1, 1, :] += gzfft\n",
    "\n",
    "    return rgswfft"
   ]
  },
  {
   "cell_type": "code",
   "execution_count": 17,
   "metadata": {},
   "outputs": [
    {
     "data": {
      "text/plain": [
       "tensor([       4,       -1, 33554434, 33554431,        1, 33554431,       -2,\n",
       "              -4,       -5,        2], dtype=torch.int32)"
      ]
     },
     "execution_count": 17,
     "metadata": {},
     "output_type": "execute_result"
    }
   ],
   "source": [
    "decrypt_from_fft(ctfft, s1fft)[:10]"
   ]
  },
  {
   "cell_type": "markdown",
   "metadata": {},
   "source": [
    "We will multiply $\\boldsymbol{m}$ by $X^3$, so the resuting message $\\boldsymbol{m} X^3$ has a coeffcients of $\\boldsymbol{m}$ right shifted by $3$."
   ]
  },
  {
   "cell_type": "code",
   "execution_count": 18,
   "metadata": {},
   "outputs": [],
   "source": [
    "# x1 is monomial x^1\n",
    "x1 = torch.zeros(N)\n",
    "x1[3] = 1"
   ]
  },
  {
   "cell_type": "code",
   "execution_count": 19,
   "metadata": {},
   "outputs": [],
   "source": [
    "rgswx1 = encrypt_rgsw_fft(x1, s1fft)"
   ]
  },
  {
   "cell_type": "code",
   "execution_count": 20,
   "metadata": {},
   "outputs": [],
   "source": [
    "ct = negacyclic_ifft(ctfft, N, Q)\n",
    "dct = signed_decompose(ct)\n",
    "multfft = negacyclic_fft(dct, N, Q).view(d, 2, 1, N//2) * rgswx1\n",
    "multfftsum = torch.sum(multfft, dim = (0,1))"
   ]
  },
  {
   "cell_type": "code",
   "execution_count": 21,
   "metadata": {},
   "outputs": [
    {
     "data": {
      "text/plain": [
       "torch.Size([2, 512])"
      ]
     },
     "execution_count": 21,
     "metadata": {},
     "output_type": "execute_result"
    }
   ],
   "source": [
    "multfftsum.size()"
   ]
  },
  {
   "cell_type": "markdown",
   "metadata": {},
   "source": [
    "We can see that $\\boldsymbol{m}$ is right shifted by three."
   ]
  },
  {
   "cell_type": "code",
   "execution_count": 22,
   "metadata": {},
   "outputs": [
    {
     "data": {
      "text/plain": [
       "tensor([   19465,     3338,    16268,    22290,    12925, 33576169, 33574016,\n",
       "           18176, 33579903,    15308], dtype=torch.int32)"
      ]
     },
     "execution_count": 22,
     "metadata": {},
     "output_type": "execute_result"
    }
   ],
   "source": [
    "decrypt_from_fft(multfftsum, s1fft)[:10]"
   ]
  },
  {
   "cell_type": "markdown",
   "metadata": {},
   "source": [
    "Make RGSW multiplication as a function."
   ]
  },
  {
   "cell_type": "code",
   "execution_count": 23,
   "metadata": {},
   "outputs": [],
   "source": [
    "def rgswmult(ctfft, rgswfft):\n",
    "    ct = negacyclic_ifft(ctfft, N, Q)\n",
    "    dct = signed_decompose(ct)\n",
    "    multfft = negacyclic_fft(dct, N, Q).view(d, 2, 1, N//2) * rgswfft\n",
    "    \n",
    "    return torch.sum(multfft, dim = (0,1))"
   ]
  }
 ],
 "metadata": {
  "kernelspec": {
   "display_name": "Python 3",
   "language": "python",
   "name": "python3"
  },
  "language_info": {
   "codemirror_mode": {
    "name": "ipython",
    "version": 3
   },
   "file_extension": ".py",
   "mimetype": "text/x-python",
   "name": "python",
   "nbconvert_exporter": "python",
   "pygments_lexer": "ipython3",
   "version": "3.11.3"
  },
  "orig_nbformat": 4
 },
 "nbformat": 4,
 "nbformat_minor": 2
}
