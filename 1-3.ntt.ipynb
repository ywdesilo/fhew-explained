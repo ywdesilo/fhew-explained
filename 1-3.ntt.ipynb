{
 "cells": [
  {
   "attachments": {},
   "cell_type": "markdown",
   "metadata": {},
   "source": [
    "## 1-3. Number Theoretic Transform (NTT)\n",
    "**GOAL:** faster multiplication between polynomials.\n",
    "\n",
    "In previous section, we saw that following naive polynomial multiplication is slow.\n",
    "\n",
    "We will improve it in this section using Foruier transformation and introduce its integer variant, NTT, very briefly. "
   ]
  },
  {
   "cell_type": "code",
   "execution_count": 1,
   "metadata": {},
   "outputs": [],
   "source": [
    "# Functions from previous lecturenote\n",
    "import torch\n",
    "import math\n",
    "import cmath\n",
    "\n",
    "stddev = 3.2\n",
    "N = 2**10\n",
    "Q = 2**27\n",
    "\n",
    "def keygen(dim):\n",
    "    return torch.randint(2, size = (dim,))\n",
    "\n",
    "def errgen(stddev):\n",
    "    e = torch.round(stddev*torch.randn(1))\n",
    "    e = e.squeeze()\n",
    "    return e.to(torch.int)\n",
    "\n",
    "def uniform(dim, modulus):\n",
    "    return torch.randint(modulus, size = (dim,))\n",
    "\n",
    "def polymult(a, b, dim, modulus):\n",
    "    res = torch.zeros(dim).to(torch.int)\n",
    "    for i in range(dim):\n",
    "        for j in range(dim):\n",
    "            if i >= j:\n",
    "                res[i] += a[j]*b[i-j]\n",
    "                res[i] %= modulus\n",
    "            else:\n",
    "                res[i] -= a[j]*b[i-j] # Q - x mod Q = -x\n",
    "                res[i] %= modulus\n",
    "\n",
    "    res %= modulus\n",
    "    return res"
   ]
  },
  {
   "attachments": {},
   "cell_type": "markdown",
   "metadata": {},
   "source": [
    "We can use Fourier transform to perform faster 'convolution'.\n",
    "[Convolution theorem](https://en.wikipedia.org/wiki/Convolution_theorem) say that \"the Fourier transform of a convolution of two functions (or signals) is the pointwise product of their Fourier transforms.\"\n",
    "\n",
    "Complexity\n",
    "\n",
    "A naive convolution has complexity of $O(n^2)$\n",
    "\n",
    "FFT (fast Fourier transform) has complexity of $O(n \\log n)$, and pointwise multiplication has complexity $O(n)$, thus total complexity is \n",
    "$$\n",
    "O(n \\log n + n ) = O(n \\log n).\n",
    "$$\n",
    "\n",
    "If we consider the multiplication of polynomial as convolution of coefficient vector, it assumes $X^M = 1$ for some $M$.\n",
    "However, we use a ring $\\mathcal{R} = \\mathbb{Z}[X]/\\left< X^N+1 \\right>$, where $X^N = -1.$\n",
    "\n",
    "A easiest (but little bit inefficient) way to perform normal FFT is padding $N$ zeros as we have $X^{2N} = {-1}^2 = 1$.\n",
    "\n",
    "PyTorch naturally supports FFT."
   ]
  },
  {
   "attachments": {},
   "cell_type": "markdown",
   "metadata": {},
   "source": [
    "As FFT is defined over complex numbers, we map numbers in $\\mathbb{Z}_Q$ to real numbers in $[0,1)$ before FFT simply using division by $Q$.\n",
    "For secret keys, we don't need to do such transformation; as secret key is binary, we can consider multiplication of $\\boldsymbol{z}$ as a *subset sum* of coefficients."
   ]
  },
  {
   "cell_type": "code",
   "execution_count": 2,
   "metadata": {},
   "outputs": [],
   "source": [
    "\n",
    "# @param: scale decides wether or not to map Z_Q to [0,1).\n",
    "def polyfft(a, N, Q, scale=True):\n",
    "    zeros = torch.zeros(N, dtype=torch.float64)\n",
    "\n",
    "    apad = torch.cat((a, zeros))\n",
    "    if scale:\n",
    "        apad /= Q\n",
    "\n",
    "    return torch.fft.fft(apad)\n",
    "\n",
    "def polyifft(afft, N, Q):\n",
    "    a = torch.fft.ifft(afft)\n",
    "    aflip = torch.real(a[:N] - a[N:])\n",
    "    aflip -= torch.round(aflip)\n",
    "\n",
    "    aflip *= Q\n",
    "    aint = aflip.to(torch.int32)\n",
    "    \n",
    "    aint %= Q\n",
    "\n",
    "    return aint\n"
   ]
  },
  {
   "attachments": {},
   "cell_type": "markdown",
   "metadata": {},
   "source": [
    "Now we compare the results.\n",
    "First, generate $\\boldsymbol{a}$ and $\\boldsymbol{z}$."
   ]
  },
  {
   "cell_type": "code",
   "execution_count": 3,
   "metadata": {},
   "outputs": [
    {
     "data": {
      "text/plain": [
       "(tensor([ 93289529,  96154302, 110129538,  ...,  65250308,  90388436,\n",
       "             62944]),\n",
       " tensor([1, 0, 1,  ..., 0, 1, 0]))"
      ]
     },
     "execution_count": 3,
     "metadata": {},
     "output_type": "execute_result"
    }
   ],
   "source": [
    "# secret key\n",
    "z = keygen(N)\n",
    "\n",
    "# random polynomial\n",
    "a = uniform(N, Q)\n",
    "\n",
    "a, z"
   ]
  },
  {
   "cell_type": "code",
   "execution_count": 4,
   "metadata": {},
   "outputs": [
    {
     "data": {
      "text/plain": [
       "tensor([26585163, 72264883, 10091987,  ..., 16923841, 24083077, 13107663],\n",
       "       dtype=torch.int32)"
      ]
     },
     "execution_count": 4,
     "metadata": {},
     "output_type": "execute_result"
    }
   ],
   "source": [
    "# ordinary method\n",
    "azslow = polymult(a, z, N, Q)\n",
    "azslow"
   ]
  },
  {
   "cell_type": "code",
   "execution_count": 5,
   "metadata": {},
   "outputs": [
    {
     "data": {
      "text/plain": [
       "tensor([26585163, 72264883, 10091987,  ..., 16923841, 24083077, 13107662],\n",
       "       dtype=torch.int32)"
      ]
     },
     "execution_count": 5,
     "metadata": {},
     "output_type": "execute_result"
    }
   ],
   "source": [
    "# using fft\n",
    "A = polyfft(a, N, Q, scale=True)\n",
    "Z = polyfft(z, N, Q, scale=False)\n",
    "\n",
    "az = polyifft(A*Z, N, Q)\n",
    "\n",
    "az"
   ]
  },
  {
   "attachments": {},
   "cell_type": "markdown",
   "metadata": {},
   "source": [
    "Same result, but the runtime differs a lot."
   ]
  },
  {
   "attachments": {},
   "cell_type": "markdown",
   "metadata": {},
   "source": [
    "### 1.3.1. More efficient negacyclic FFT \n",
    "We map $f(x) \\rightarrow f^*(x) = f(x) - x^Nf(x) = -f(x)(x^N-1)$ which and do a *cyclic* product modulu $2^{2N}-1$.\n",
    "$f^*(x)$ is naturally mapped to $2f(x)$.\n",
    "\n",
    "Multiplication of $f$ and $g$ can be found by \n",
    "$$\n",
    "f^* g^* = -f(x^N+1)\\cdot -g(x^N-1)\n",
    "= 2(fg-x^Nfg),\n",
    "$$\n",
    "which naturally maps to $4fg$.\n",
    "\n",
    "A better feature is that the first half of $f^*g^*$ is mapped to $2fg$, hence we don't need to fold the results.\n",
    "\n",
    "For more detail, see [reference](https://jeremykun.com/2022/12/09/negacyclic-polynomial-multiplication/)"
   ]
  },
  {
   "cell_type": "code",
   "execution_count": 6,
   "metadata": {},
   "outputs": [],
   "source": [
    "# @param: scale decides wether or not to map Z_Q to [0,1).\n",
    "def polyfft_nofold(a, N, Q, scale=True):\n",
    "    apad = torch.cat([a, -a])\n",
    "    apad = apad.to(torch.float64)\n",
    "    \n",
    "    if scale:\n",
    "        apad /= Q\n",
    "\n",
    "    return torch.fft.fft(apad)\n",
    "\n",
    "def polyifft_nofold(afft, N, Q):\n",
    "    a = torch.fft.ifft(afft)\n",
    "\n",
    "    areal = torch.real(a)\n",
    "    areal = 0.5*areal\n",
    "    areal = areal - torch.round(areal)\n",
    "    areal *= Q\n",
    "    aint = areal.to(torch.int32)\n",
    "    \n",
    "    aint %= Q\n",
    "\n",
    "    return aint[:N]"
   ]
  },
  {
   "cell_type": "code",
   "execution_count": 7,
   "metadata": {},
   "outputs": [
    {
     "data": {
      "text/plain": [
       "tensor([26585163, 72264883, 10091987,  ..., 16923840, 24083077, 13107662],\n",
       "       dtype=torch.int32)"
      ]
     },
     "execution_count": 7,
     "metadata": {},
     "output_type": "execute_result"
    }
   ],
   "source": [
    "# using fft\n",
    "A = polyfft_nofold(a, N, Q, scale=True)\n",
    "Z = polyfft_nofold(z, N, Q, scale=False)\n",
    "\n",
    "az = polyifft_nofold(A*Z, N, Q)\n",
    "\n",
    "az"
   ]
  },
  {
   "cell_type": "code",
   "execution_count": 8,
   "metadata": {},
   "outputs": [
    {
     "data": {
      "text/plain": [
       "tensor([ 0,  0,  0,  ..., -1,  0, -1], dtype=torch.int32)"
      ]
     },
     "execution_count": 8,
     "metadata": {},
     "output_type": "execute_result"
    }
   ],
   "source": [
    "az - azslow"
   ]
  },
  {
   "attachments": {},
   "cell_type": "markdown",
   "metadata": {},
   "source": [
    "### 1.3.2. More efficient negacyclic FFT with a \"twist\"\n",
    "\n",
    "Looking at the result of NTT above, we can see that there are many zeros (especially, in all odd-indexed elements).\n"
   ]
  },
  {
   "cell_type": "code",
   "execution_count": 9,
   "metadata": {},
   "outputs": [
    {
     "data": {
      "text/plain": [
       "tensor([ 0.0000+0.0000j, 23.1473-657.7842j,  0.0000-0.0000j,\n",
       "         ...,  2.7542+238.7902j,  0.0000+0.0000j,\n",
       "        23.1473+657.7842j], dtype=torch.complex128)"
      ]
     },
     "execution_count": 9,
     "metadata": {},
     "output_type": "execute_result"
    }
   ],
   "source": [
    "A"
   ]
  },
  {
   "attachments": {},
   "cell_type": "markdown",
   "metadata": {},
   "source": [
    "Here, we investigate to reduce the operation by removing such redundant elements. \n",
    "We can do FFT of size N/2 to perform negacyclic multiplication!\n",
    "\n",
    "We do a negacyclic FFT, for we convert the given vector of coefficients $\\boldsymbol{a}$ to $\\boldsymbol{b}$ of length N/2 where\n",
    "$$\n",
    "b_j = (a_j - i a_{N/2 + j}) w^j.\n",
    "$$\n",
    "Here, $w$ is a $2N$-th root of unity, $e^{−\\pi i/N}$.\n",
    "Then, we do FFT on $\\boldsymbol{b}$. \n",
    "\n",
    "To multiply two polynomial, we perform pointwise multiplication of the FFTed values.\n",
    "\n",
    "The inverse FFT for a given value $\\boldsymbol{c} = FFT(\\boldsymbol{b})$, is used to recover the product.\n",
    "The product $\\boldsymbol{a}$ is given as\n",
    "$$\n",
    "a_j = Real(b_jw^j) \\text{ and } a_{N/2+j} = Imag(b_jw^j).\n",
    "$$\n",
    "\n",
    "\n",
    "See [nuFHE document](https://nufhe.readthedocs.io/en/latest/implementation_details.html?highlight=ntt#polynomial-multiplication) and [this blog](https://jeremykun.com/2022/12/09/negacyclic-polynomial-multiplication/) for detail"
   ]
  },
  {
   "cell_type": "code",
   "execution_count": 10,
   "metadata": {},
   "outputs": [],
   "source": [
    "root_powers = torch.arange(N//2).to(torch.complex128)\n",
    "root_powers = torch.exp((1j*math.pi/N)*root_powers)\n",
    "\n",
    "root_powers_inv = torch.arange(0,-N//2,-1).to(torch.complex128)\n",
    "root_powers_inv = torch.exp((1j*math.pi/N)*root_powers_inv)"
   ]
  },
  {
   "cell_type": "code",
   "execution_count": 11,
   "metadata": {},
   "outputs": [],
   "source": [
    "def negacyclic_fft(a, N, Q, scale=True):\n",
    "    acomplex = a.to(torch.complex128)\n",
    "    \n",
    "    if scale:\n",
    "        acomplex /= Q\n",
    "\n",
    "    a_precomp = (acomplex[:N//2] + 1j * acomplex[N//2:]) * root_powers\n",
    "\n",
    "    return torch.fft.fft(a_precomp)\n",
    "\n",
    "def negacyclic_ifft(A, N, Q):\n",
    "    b = torch.fft.ifft(A)\n",
    "    b *= root_powers_inv\n",
    "\n",
    "    a = torch.cat((torch.real(b), torch.imag(b)))\n",
    "    a -= torch.round(a)\n",
    "\n",
    "    a *= Q\n",
    "    aint = a.to(torch.int32)\n",
    "    aint %= Q\n",
    "\n",
    "    return aint"
   ]
  },
  {
   "cell_type": "code",
   "execution_count": 12,
   "metadata": {},
   "outputs": [
    {
     "data": {
      "text/plain": [
       "tensor([26585163, 72264883, 10091987,  ..., 16923840, 24083077, 13107663],\n",
       "       dtype=torch.int32)"
      ]
     },
     "execution_count": 12,
     "metadata": {},
     "output_type": "execute_result"
    }
   ],
   "source": [
    "# using fft\n",
    "A = negacyclic_fft(a, N, Q, scale=True)\n",
    "Z = negacyclic_fft(z, N, Q, scale=False)\n",
    "\n",
    "az = negacyclic_ifft(A*Z, N, Q)\n",
    "\n",
    "az"
   ]
  },
  {
   "cell_type": "code",
   "execution_count": 13,
   "metadata": {},
   "outputs": [
    {
     "data": {
      "text/plain": [
       "tensor([ 0,  0,  0,  ..., -1,  0,  0], dtype=torch.int32)"
      ]
     },
     "execution_count": 13,
     "metadata": {},
     "output_type": "execute_result"
    }
   ],
   "source": [
    "az - azslow"
   ]
  },
  {
   "attachments": {},
   "cell_type": "markdown",
   "metadata": {},
   "source": [
    "## Appendix. reducing mutiplication and division of Q\n",
    "\n",
    "A muliplication between torus element is not defined.\n",
    "Only external multiplication is allowed.\n",
    "In other word, we can define and naturally extend it to polynomial\n",
    "$$\n",
    "\\mathbb{T} \\times \\mathbb{Z} \\mapsto \\mathbb{T}\n",
    "$$\n",
    "but not\n",
    "$$\n",
    "\\mathbb{T} \\times \\mathbb{T} \\mapsto \\mathbb{T}.\n",
    "$$\n",
    "\n",
    "Hence, the multiplicand should be integer (polynomial)."
   ]
  },
  {
   "cell_type": "code",
   "execution_count": 14,
   "metadata": {},
   "outputs": [],
   "source": [
    "def negacyclic_fft(a, N, Q, scale=True):\n",
    "    acomplex = a.to(torch.complex128)\n",
    "\n",
    "    a_precomp = (acomplex[:N//2] + 1j * acomplex[N//2:]) * root_powers\n",
    "\n",
    "    return torch.fft.fft(a_precomp)\n",
    "\n",
    "def negacyclic_ifft(A, N, Q):\n",
    "    b = torch.fft.ifft(A)\n",
    "    b *= root_powers_inv\n",
    "\n",
    "    a = torch.cat((torch.real(b), torch.imag(b)))\n",
    "\n",
    "    aint = torch.round(a).to(torch.int32)\n",
    "    # only when Q is a power-of-two\n",
    "    aint &= Q-1\n",
    "\n",
    "    return aint"
   ]
  },
  {
   "cell_type": "code",
   "execution_count": 15,
   "metadata": {},
   "outputs": [
    {
     "data": {
      "text/plain": [
       "tensor([26585163, 72264883, 10091987,  ..., 16923841, 24083077, 13107663],\n",
       "       dtype=torch.int32)"
      ]
     },
     "execution_count": 15,
     "metadata": {},
     "output_type": "execute_result"
    }
   ],
   "source": [
    "# using fft\n",
    "A = negacyclic_fft(a, N, Q, scale=True)\n",
    "Z = negacyclic_fft(z, N, Q, scale=False)\n",
    "\n",
    "az = negacyclic_ifft(A*Z, N, Q)\n",
    "\n",
    "az"
   ]
  },
  {
   "cell_type": "code",
   "execution_count": 16,
   "metadata": {},
   "outputs": [
    {
     "data": {
      "text/plain": [
       "tensor([0, 0, 0,  ..., 0, 0, 0], dtype=torch.int32)"
      ]
     },
     "execution_count": 16,
     "metadata": {},
     "output_type": "execute_result"
    }
   ],
   "source": [
    "az - azslow"
   ]
  },
  {
   "attachments": {},
   "cell_type": "markdown",
   "metadata": {},
   "source": [
    "Replacing rounding to floor will introduce some error, but tolerable."
   ]
  },
  {
   "cell_type": "code",
   "execution_count": 17,
   "metadata": {},
   "outputs": [],
   "source": [
    "def negacyclic_fft(a, N, Q):\n",
    "    acomplex = a.to(torch.complex128)\n",
    "\n",
    "    a_precomp = (acomplex[:N//2] + 1j * acomplex[N//2:]) * root_powers\n",
    "\n",
    "    return torch.fft.fft(a_precomp)\n",
    "\n",
    "def negacyclic_ifft(A, N, Q):\n",
    "    b = torch.fft.ifft(A)\n",
    "    b *= root_powers_inv\n",
    "\n",
    "    a = torch.cat((torch.real(b), torch.imag(b)))\n",
    "\n",
    "    aint = a.to(torch.int32)\n",
    "    # only when Q is a power-of-two\n",
    "    aint &= Q-1\n",
    "\n",
    "    return aint"
   ]
  },
  {
   "cell_type": "code",
   "execution_count": 18,
   "metadata": {},
   "outputs": [
    {
     "data": {
      "text/plain": [
       "tensor([26585164, 72264883, 10091987,  ..., 16923840, 24083077, 13107663],\n",
       "       dtype=torch.int32)"
      ]
     },
     "execution_count": 18,
     "metadata": {},
     "output_type": "execute_result"
    }
   ],
   "source": [
    "# using fft\n",
    "A = negacyclic_fft(a, N, Q)\n",
    "Z = negacyclic_fft(z, N, Q)\n",
    "\n",
    "az = negacyclic_ifft(A*Z, N, Q)\n",
    "\n",
    "az"
   ]
  },
  {
   "cell_type": "code",
   "execution_count": 19,
   "metadata": {},
   "outputs": [
    {
     "data": {
      "text/plain": [
       "tensor([ 1,  0,  0,  ..., -1,  0,  0], dtype=torch.int32)"
      ]
     },
     "execution_count": 19,
     "metadata": {},
     "output_type": "execute_result"
    }
   ],
   "source": [
    "az - azslow"
   ]
  }
 ],
 "metadata": {
  "kernelspec": {
   "display_name": "Python 3",
   "language": "python",
   "name": "python3"
  },
  "language_info": {
   "codemirror_mode": {
    "name": "ipython",
    "version": 3
   },
   "file_extension": ".py",
   "mimetype": "text/x-python",
   "name": "python",
   "nbconvert_exporter": "python",
   "pygments_lexer": "ipython3",
   "version": "3.11.3"
  },
  "orig_nbformat": 4
 },
 "nbformat": 4,
 "nbformat_minor": 2
}
