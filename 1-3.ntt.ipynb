{
 "cells": [
  {
   "attachments": {},
   "cell_type": "markdown",
   "metadata": {},
   "source": [
    "## 1-3. Number Theoretic Transform (NTT)\n",
    "**GOAL:** faster multiplication between polynomials.\n",
    "\n",
    "In previous section, we saw that following naive polynomial multiplication is slow.\n",
    "\n",
    "We will improve it in this section using Foruier transformation and introduce its integer variant, NTT, very briefly. "
   ]
  },
  {
   "cell_type": "code",
   "execution_count": null,
   "metadata": {},
   "outputs": [],
   "source": [
    "# Functions from previous lecturenote\n",
    "import torch\n",
    "import math\n",
    "import cmath\n",
    "\n",
    "stddev = 3.2\n",
    "N = 2**10\n",
    "Q = 2**27\n",
    "\n",
    "def keygen(dim):\n",
    "    return torch.randint(2, size = (dim,))\n",
    "\n",
    "def errgen(stddev):\n",
    "    e = torch.round(stddev*torch.randn(1))\n",
    "    e = e.squeeze()\n",
    "    return e.to(torch.int)\n",
    "\n",
    "def uniform(dim, modulus):\n",
    "    return torch.randint(modulus, size = (dim,))\n",
    "\n",
    "def polymult(a, b, dim, modulus):\n",
    "    res = torch.zeros(dim).to(torch.int)\n",
    "    for i in range(dim):\n",
    "        for j in range(dim):\n",
    "            if i >= j:\n",
    "                res[i] += a[j]*b[i-j]\n",
    "                res[i] %= modulus\n",
    "            else:\n",
    "                res[i] -= a[j]*b[i-j] # Q - x mod Q = -x\n",
    "                res[i] %= modulus\n",
    "\n",
    "    res %= modulus\n",
    "    return res"
   ]
  },
  {
   "attachments": {},
   "cell_type": "markdown",
   "metadata": {},
   "source": [
    "We can use Fourier transform to perform faster 'convolution'.\n",
    "[Convolution theorem](https://en.wikipedia.org/wiki/Convolution_theorem) say that \"the Fourier transform of a convolution of two functions (or signals) is the pointwise product of their Fourier transforms.\"\n",
    "\n",
    "Complexity\n",
    "\n",
    "A naive convolution has complexity of $O(n^2)$\n",
    "\n",
    "FFT (fast Fourier transform) has complexity of $O(n \\log n)$, and pointwise multiplication has complexity $O(n)$, thus total complexity is \n",
    "$$\n",
    "O(n \\log n + n ) = O(n \\log n).\n",
    "$$\n",
    "\n",
    "If we consider the multiplication of polynomial as convolution of coefficient vector, it assumes $X^M = 1$ for some $M$.\n",
    "However, we use a ring $\\mathcal{R} = \\mathbb{Z}[X]/\\left< X^N+1 \\right>$, where $X^N = -1.$\n",
    "\n",
    "A easiest (but little bit inefficient) way to perform normal FFT is padding $N$ zeros as we have $X^{2N} = {-1}^2 = 1$.\n",
    "\n",
    "PyTorch naturally supports FFT."
   ]
  },
  {
   "attachments": {},
   "cell_type": "markdown",
   "metadata": {},
   "source": [
    "As FFT is defined over complex numbers, we map numbers in $\\mathbb{Z}_Q$ to real numbers in $[0,1)$ before FFT simply using division by $Q$.\n",
    "For secret keys, we don't need to do such transformation; as secret key is binary, we can consider multiplication of $\\boldsymbol{z}$ as a *subset sum* of coefficients."
   ]
  },
  {
   "cell_type": "code",
   "execution_count": null,
   "metadata": {},
   "outputs": [],
   "source": [
    "\n",
    "# @param: scale decides wether or not to map Z_Q to [0,1).\n",
    "def polyfft(a, N, Q, scale=True):\n",
    "    zeros = torch.zeros(N, dtype=torch.float64)\n",
    "\n",
    "    apad = torch.cat((a, zeros))\n",
    "    if scale:\n",
    "        apad /= Q\n",
    "\n",
    "    return torch.fft.fft(apad)\n",
    "\n",
    "def polyifft(afft, N, Q):\n",
    "    a = torch.fft.ifft(afft)\n",
    "    aflip = torch.real(a[:N] - a[N:])\n",
    "    aflip -= torch.round(aflip)\n",
    "\n",
    "    aflip *= Q\n",
    "    aint = aflip.to(torch.int32)\n",
    "    \n",
    "    aint %= Q\n",
    "\n",
    "    return aint\n"
   ]
  },
  {
   "cell_type": "code",
   "execution_count": null,
   "metadata": {},
   "outputs": [],
   "source": [
    "\n",
    "# @param: scale decides wether or not to map Z_Q to [0,1).\n",
    "def polyfft(a, N, Q, scale=True):\n",
    "    a = a.to(torch.float64)\n",
    "    apad = torch.cat((a, -a))\n",
    "    if scale:\n",
    "        apad /= Q\n",
    "\n",
    "    return torch.fft.fft(apad)\n",
    "\n",
    "def polyifft(afft, N, Q):\n",
    "    a = torch.fft.ifft(afft)\n",
    "    aflip = torch.real(a[:N] - a[N:])\n",
    "    aflip -= torch.round(aflip)\n",
    "\n",
    "    aflip *= Q\n",
    "    aint = aflip.to(torch.int32)\n",
    "    \n",
    "    aint %= Q\n",
    "\n",
    "    return aint\n"
   ]
  },
  {
   "attachments": {},
   "cell_type": "markdown",
   "metadata": {},
   "source": [
    "Now we compare the results.\n",
    "First, generate $\\boldsymbol{a}$ and $\\boldsymbol{z}$."
   ]
  },
  {
   "cell_type": "code",
   "execution_count": null,
   "metadata": {},
   "outputs": [],
   "source": [
    "# secret key\n",
    "z = keygen(N)\n",
    "\n",
    "# random polynomial\n",
    "a = uniform(N, Q)\n",
    "\n",
    "a, z"
   ]
  },
  {
   "cell_type": "code",
   "execution_count": null,
   "metadata": {},
   "outputs": [],
   "source": [
    "# ordinary method\n",
    "azslow = polymult(a, z, N, Q)\n",
    "azslow"
   ]
  },
  {
   "cell_type": "code",
   "execution_count": null,
   "metadata": {},
   "outputs": [],
   "source": [
    "# using fft\n",
    "A = polyfft(a, N, Q, scale=True)\n",
    "Z = polyfft(z, N, Q, scale=False)\n",
    "\n",
    "az = polyifft(A*Z, N, Q)\n",
    "\n",
    "az"
   ]
  },
  {
   "attachments": {},
   "cell_type": "markdown",
   "metadata": {},
   "source": [
    "Same result, but the runtime differs a lot."
   ]
  },
  {
   "attachments": {},
   "cell_type": "markdown",
   "metadata": {},
   "source": [
    "### 1.3.1. More efficient negacyclic FFT \n",
    "\n",
    "We do a negacyclic FFT, for we convert the given vector of coefficients $\\boldsymbol{a}$ to $\\boldsymbol{b}$ of length N/2 where\n",
    "$$\n",
    "b_j = (a_j - i a_{N/2 + j}) w^j.\n",
    "$$\n",
    "Here, $w$ is a $2N$-th root of unity, $e^{−\\pi i/N}$.\n",
    "Then, we do FFT on $\\boldsymbol{b}$. \n",
    "\n",
    "To multiply two polynomial, we perform pointwise multiplication of the FFTed values.\n",
    "\n",
    "The inverse FFT for a given value $\\boldsymbol{c} = FFT(\\boldsymbol{b})$, is used to recover the product.\n",
    "The product $\\boldsymbol{a}$ is given as\n",
    "$$\n",
    "a_j = Real(b_jw^j) \\text{ and } a_{N/2+j} = Imag(b_jw^j).\n",
    "$$\n",
    "\n",
    "\n",
    "See [nuFHE document](https://nufhe.readthedocs.io/en/latest/implementation_details.html?highlight=ntt#polynomial-multiplication) for detail"
   ]
  },
  {
   "cell_type": "code",
   "execution_count": null,
   "metadata": {},
   "outputs": [],
   "source": [
    "roots = torch.tensor(range(N//2), dtype=torch.complex128)\n",
    "roots = torch.exp((-1j*math.pi/N)*roots)"
   ]
  },
  {
   "cell_type": "code",
   "execution_count": null,
   "metadata": {},
   "outputs": [],
   "source": [
    "def negacyclic_fft(a, N, Q, scale=True):\n",
    "    acomplex = a.to(torch.complex128)\n",
    "    \n",
    "    if scale:\n",
    "        acomplex /= Q\n",
    "\n",
    "    left = acomplex[:N//2]\n",
    "    right = acomplex[N//2:] \n",
    "\n",
    "    left -= 1j*right*roots\n",
    "\n",
    "    return torch.fft.fft(left)\n",
    "\n",
    "def negacyclic_ifft(A, N, Q):\n",
    "    b = torch.fft.ifft(A)\n",
    "    b *= roots\n",
    "\n",
    "    a = torch.cat((torch.real(b), torch.imag(b)))\n",
    "    a -= torch.round(a)\n",
    "\n",
    "    a *= Q\n",
    "    aint = a.to(torch.int32)\n",
    "    aint %= Q\n",
    "\n",
    "    return aint"
   ]
  },
  {
   "cell_type": "code",
   "execution_count": null,
   "metadata": {},
   "outputs": [],
   "source": [
    "# using fft\n",
    "A = negacyclic_fft(a, N, Q, scale=True)\n",
    "Z = negacyclic_fft(z, N, Q, scale=False)\n",
    "\n",
    "az = negacyclic_ifft(A*Z, N, Q)\n",
    "\n",
    "az"
   ]
  },
  {
   "cell_type": "code",
   "execution_count": null,
   "metadata": {},
   "outputs": [],
   "source": [
    "azslow"
   ]
  },
  {
   "cell_type": "code",
   "execution_count": null,
   "metadata": {},
   "outputs": [],
   "source": [
    "# using fft\n",
    "A = polyfft(a, N, Q, scale=True)\n",
    "Z = polyfft(z, N, Q, scale=False)\n",
    "\n",
    "az = polyifft(A*Z, N, Q)\n",
    "\n",
    "az"
   ]
  },
  {
   "cell_type": "code",
   "execution_count": null,
   "metadata": {},
   "outputs": [],
   "source": []
  },
  {
   "cell_type": "code",
   "execution_count": null,
   "metadata": {},
   "outputs": [],
   "source": [
    "# secret key\n",
    "z = keygen(N)\n",
    "\n",
    "# random polynomial\n",
    "a = uniform(N, Q)\n",
    "\n",
    "m = torch.zeros(N).to(torch.int)\n",
    "m[0] = 1\n",
    "\n",
    "def errpolygen(dim, stddev):\n",
    "    e = torch.round(stddev*torch.randn(dim))\n",
    "    e = e.squeeze()\n",
    "    return e.to(torch.int)\n",
    "\n",
    "e = errpolygen(N, stddev)"
   ]
  },
  {
   "cell_type": "code",
   "execution_count": null,
   "metadata": {},
   "outputs": [],
   "source": [
    "polymult(a, z, N, Q)"
   ]
  },
  {
   "cell_type": "code",
   "execution_count": null,
   "metadata": {},
   "outputs": [],
   "source": [
    "A = negacyclic_fft(a, N, Q)\n",
    "\n",
    "Z = negacyclic_fft(z, N, Q, scale=False)\n",
    "\n",
    "negacyclic_ifft(A*Z, N, Q)"
   ]
  },
  {
   "cell_type": "code",
   "execution_count": null,
   "metadata": {},
   "outputs": [],
   "source": [
    "a"
   ]
  },
  {
   "cell_type": "code",
   "execution_count": null,
   "metadata": {},
   "outputs": [],
   "source": [
    "a.shape"
   ]
  },
  {
   "cell_type": "code",
   "execution_count": null,
   "metadata": {},
   "outputs": [],
   "source": [
    "zeros = torch.zeros(N, dtype=torch.float64)\n",
    "zeros"
   ]
  },
  {
   "cell_type": "code",
   "execution_count": null,
   "metadata": {},
   "outputs": [],
   "source": [
    "apad = torch.cat((a, zeros))\n",
    "apad /= Q\n",
    "apad\n"
   ]
  },
  {
   "cell_type": "code",
   "execution_count": null,
   "metadata": {},
   "outputs": [],
   "source": [
    "Apad = torch.fft.fft(apad)\n",
    "Apad"
   ]
  },
  {
   "cell_type": "code",
   "execution_count": null,
   "metadata": {},
   "outputs": [],
   "source": [
    "zpad = torch.cat((z, zeros))\n",
    "Zpad = torch.fft.fft(zpad)\n",
    "Zpad"
   ]
  },
  {
   "cell_type": "code",
   "execution_count": null,
   "metadata": {},
   "outputs": [],
   "source": [
    "AZ = Apad * Zpad"
   ]
  },
  {
   "cell_type": "code",
   "execution_count": null,
   "metadata": {},
   "outputs": [],
   "source": [
    "az = torch.fft.ifft(AZ)\n",
    "az"
   ]
  },
  {
   "cell_type": "code",
   "execution_count": null,
   "metadata": {},
   "outputs": [],
   "source": [
    "az = az[:N] - az[N:]\n",
    "\n",
    "az"
   ]
  },
  {
   "cell_type": "code",
   "execution_count": null,
   "metadata": {},
   "outputs": [],
   "source": [
    "az = torch.real(az)\n",
    "\n",
    "az"
   ]
  },
  {
   "cell_type": "code",
   "execution_count": null,
   "metadata": {},
   "outputs": [],
   "source": [
    "az -= torch.round(az)\n",
    "az *= Q\n",
    "az = az.to(torch.int32)\n",
    "az"
   ]
  },
  {
   "cell_type": "code",
   "execution_count": null,
   "metadata": {},
   "outputs": [],
   "source": [
    "az %= Q\n",
    "az"
   ]
  },
  {
   "cell_type": "code",
   "execution_count": null,
   "metadata": {},
   "outputs": [],
   "source": [
    "az.size()"
   ]
  }
 ],
 "metadata": {
  "kernelspec": {
   "display_name": "Python 3",
   "language": "python",
   "name": "python3"
  },
  "language_info": {
   "codemirror_mode": {
    "name": "ipython",
    "version": 3
   },
   "file_extension": ".py",
   "mimetype": "text/x-python",
   "name": "python",
   "nbconvert_exporter": "python",
   "pygments_lexer": "ipython3",
   "version": "3.11.3"
  },
  "orig_nbformat": 4
 },
 "nbformat": 4,
 "nbformat_minor": 2
}
